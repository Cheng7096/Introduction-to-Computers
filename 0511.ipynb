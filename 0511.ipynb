{
  "nbformat": 4,
  "nbformat_minor": 0,
  "metadata": {
    "colab": {
      "name": "0511.ipynb",
      "provenance": [],
      "authorship_tag": "ABX9TyONBbIo0+qk1Vec1lIIt6Bx",
      "include_colab_link": true
    },
    "kernelspec": {
      "name": "python3",
      "display_name": "Python 3"
    },
    "language_info": {
      "name": "python"
    }
  },
  "cells": [
    {
      "cell_type": "markdown",
      "metadata": {
        "id": "view-in-github",
        "colab_type": "text"
      },
      "source": [
        "<a href=\"https://colab.research.google.com/github/Cheng7096/Introduction-to-Computers/blob/main/0511.ipynb\" target=\"_parent\"><img src=\"https://colab.research.google.com/assets/colab-badge.svg\" alt=\"Open In Colab\"/></a>"
      ]
    },
    {
      "cell_type": "code",
      "execution_count": 1,
      "metadata": {
        "colab": {
          "base_uri": "https://localhost:8080/"
        },
        "id": "-iD5XaD6rugy",
        "outputId": "ebfe0de1-7862-46c3-e7a5-e94c78a19f66"
      },
      "outputs": [
        {
          "output_type": "stream",
          "name": "stdout",
          "text": [
            "請輸入你的體溫37.6\n",
            "體溫過高\n"
          ]
        }
      ],
      "source": [
        "temp = float(input('請輸入你的體溫'))\n",
        "if temp >=37.5:\n",
        "  print('體溫過高')\n",
        "elif temp >=37 and temp<37.4:\n",
        "  print('體溫略高')\n",
        "elif temp>=3 and temp <36.9:\n",
        "  print('體溫正常')\n",
        "else:\n",
        "  print('體溫異常,請重新測量')"
      ]
    },
    {
      "cell_type": "code",
      "source": [
        "money = int(input(\"請輸入購物金額:\"))\n",
        "if (money >= 10000):\n",
        "    if(money >= 100000):\n",
        "      print(\"八折\",money*0.8,end=\"元\\n\")\n",
        "    elif(money >= 50000):\n",
        "      print(\"八五折\",money*0.85,end=\"元\\n\")\n",
        "    elif(money >= 30000):\n",
        "      print(\"九折\",money*0.9,end=\"元\\n\")\n",
        "    else:\n",
        "      print(\"九五折\",money*0.95,end=\"元\\n\")\n",
        "else:\n",
        "    print(\"沒打折\",money,end=\"元\\n\")\n",
        "money = int(input(\"請輸入購物金額:\"))\n",
        "if (money >= 10000):\n",
        "    if(money >= 100000):\n",
        "      print(\"八折\",money*0.8,end=\"元\\n\")\n",
        "    elif(money >= 50000):\n",
        "      print(\"八五折\",money*0.85,end=\"元\\n\")\n",
        "    elif(money >= 30000):\n",
        "      print(\"九折\",money*0.9,end=\"元\\n\")\n",
        "    else:\n",
        "      print(\"九五折\",money*0.95,end=\"元\\n\")\n",
        "else:\n",
        "    print(\"沒打折\",money,end=\"元\\n\")"
      ],
      "metadata": {
        "colab": {
          "base_uri": "https://localhost:8080/"
        },
        "id": "VtnpSTKlrwYs",
        "outputId": "6392cfd4-ec22-4e20-9b34-20bfafc67258"
      },
      "execution_count": 7,
      "outputs": [
        {
          "output_type": "stream",
          "name": "stdout",
          "text": [
            "請輸入購物金額:100\n",
            "沒打折 100元\n",
            "請輸入購物金額:100000\n",
            "八折 80000.0元\n"
          ]
        }
      ]
    },
    {
      "cell_type": "code",
      "source": [
        "grade = int(input(\"請輸入成績\"))\n",
        "if(grade >= 90):\n",
        "  print(\"A\")\n",
        "elif grade >=80 and grade <=89:\n",
        "  print(\"B\")\n",
        "elif grade >=70 and grade <=79:\n",
        "  print(\"C\")\n",
        "elif grade >=60 and grade <=69:\n",
        "  print(\"D\")\n",
        "else:\n",
        "  print(\"E\")\n",
        "grade = int(input(\"請輸入成績\"))\n",
        "if(grade >= 90):\n",
        "  print(\"A\")\n",
        "elif grade >=80 and grade <=89:\n",
        "  print(\"B\")\n",
        "elif grade >=70 and grade <=79:\n",
        "  print(\"C\")\n",
        "elif grade >=60 and grade <=69:\n",
        "  print(\"D\")\n",
        "else:\n",
        "  print(\"E\")\n",
        "grade = int(input(\"請輸入成績\"))\n",
        "if(grade >= 90):\n",
        "  print(\"A\")\n",
        "elif grade >=80 and grade <=89:\n",
        "  print(\"B\")\n",
        "elif grade >=70 and grade <=79:\n",
        "  print(\"C\")\n",
        "elif grade >=60 and grade <=69:\n",
        "  print(\"D\")\n",
        "else:\n",
        "  print(\"E\")\n"
      ],
      "metadata": {
        "colab": {
          "base_uri": "https://localhost:8080/"
        },
        "id": "sa0NQ6X0r4Bl",
        "outputId": "7ddf3934-7b72-4656-d915-ff46ffc13a7c"
      },
      "execution_count": 8,
      "outputs": [
        {
          "output_type": "stream",
          "name": "stdout",
          "text": [
            "請輸入成績90\n",
            "A\n",
            "請輸入成績80\n",
            "B\n",
            "請輸入成績50\n",
            "E\n"
          ]
        }
      ]
    },
    {
      "cell_type": "code",
      "source": [
        "season = int(input(\"請輸入月份\"))\n",
        "if(season == 3) or (season == 4) or (season == 5):\n",
        "  print(season,\"月是春天!\")\n",
        "elif(season == 6) or (season == 7) or (season == 8):\n",
        "  print(season,\"月是夏天!\")\n",
        "elif(season == 9) or (season == 10) or (season == 11):\n",
        "  print(season,\"月是秋天!\")\n",
        "elif(season == 12) or (season == 1) or (season == 2):\n",
        "  print(season,\"月是冬天!\")\n",
        "else:\n",
        "  print(\"月份不在範圍內!\")"
      ],
      "metadata": {
        "colab": {
          "base_uri": "https://localhost:8080/"
        },
        "id": "o9ZMAskwr_GW",
        "outputId": "33d67c12-7755-4ad0-d510-af2e11069d67"
      },
      "execution_count": 16,
      "outputs": [
        {
          "output_type": "stream",
          "name": "stdout",
          "text": [
            "請輸入月份6\n",
            "6 月是夏天!\n"
          ]
        }
      ]
    },
    {
      "cell_type": "code",
      "source": [
        "income = int(input(\"請輸入今年收入淨額:\"))\n",
        "if income >= 2000000:\n",
        "  print(\"付稅金額:\",income*0.3,end=\"元\\n\")\n",
        "elif income >= 1000000:\n",
        "  print(\"付稅金額:\",income*0.21,end=\"元\\n\")\n",
        "elif income >= 600000:\n",
        "  print(\"付稅金額:\",income*0.13,end=\"元\\n\")\n",
        "elif income >= 300000:\n",
        "  print(\"付稅金額:\",income*0.06,end=\"元\\n\")\n",
        "else:\n",
        "  print(\"付稅金額:\",income*0,end=\"元\\n\")\n",
        "\n",
        "income = int(input(\"請輸入今年收入淨額:\"))\n",
        "if income >= 2000000:\n",
        "  print(\"付稅金額:\",income*0.3,end=\"元\\n\")\n",
        "elif income >= 1000000:\n",
        "  print(\"付稅金額:\",income*0.21,end=\"元\\n\")\n",
        "elif income >= 600000:\n",
        "  print(\"付稅金額:\",income*0.13,end=\"元\\n\")\n",
        "elif income >= 300000:\n",
        "  print(\"付稅金額:\",income*0.06,end=\"元\\n\")\n",
        "else:\n",
        "  print(\"付稅金額:\",income*0,end=\"元\\n\")"
      ],
      "metadata": {
        "colab": {
          "base_uri": "https://localhost:8080/"
        },
        "id": "HFafnfBktIwS",
        "outputId": "ac769aeb-f5a5-420a-e82c-9d0fac72e219"
      },
      "execution_count": 15,
      "outputs": [
        {
          "output_type": "stream",
          "name": "stdout",
          "text": [
            "請輸入今年收入淨額:100000\n",
            "付稅金額: 0元\n",
            "請輸入今年收入淨額:2000000\n",
            "付稅金額: 600000.0元\n"
          ]
        }
      ]
    },
    {
      "cell_type": "code",
      "source": [
        ""
      ],
      "metadata": {
        "id": "ke6nyiACxwWh"
      },
      "execution_count": null,
      "outputs": []
    }
  ]
}