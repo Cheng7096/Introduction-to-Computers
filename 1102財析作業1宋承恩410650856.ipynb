{
  "nbformat": 4,
  "nbformat_minor": 0,
  "metadata": {
    "colab": {
      "provenance": [],
      "authorship_tag": "ABX9TyO+Kf9HNY+muGjjtzmRDrMY",
      "include_colab_link": true
    },
    "kernelspec": {
      "name": "python3",
      "display_name": "Python 3"
    },
    "language_info": {
      "name": "python"
    }
  },
  "cells": [
    {
      "cell_type": "markdown",
      "metadata": {
        "id": "view-in-github",
        "colab_type": "text"
      },
      "source": [
        "<a href=\"https://colab.research.google.com/github/Cheng7096/Introduction-to-Computers/blob/main/1102%E8%B2%A1%E6%9E%90%E4%BD%9C%E6%A5%AD1%E5%AE%8B%E6%89%BF%E6%81%A9410650856.ipynb\" target=\"_parent\"><img src=\"https://colab.research.google.com/assets/colab-badge.svg\" alt=\"Open In Colab\"/></a>"
      ]
    },
    {
      "cell_type": "code",
      "source": [
        "import yfinance as yf\n",
        "import pandas as pd\n",
        "import datetime\n",
        "\n",
        "start = datetime.datetime(2018, 1, 13)\n",
        "end = datetime.datetime(2022, 2, 15)\n",
        "\n",
        "sqcl = yf.download(\"NVDA\", start=start, end=end)['Close']\n",
        "\n",
        "print(sqcl)"
      ],
      "metadata": {
        "colab": {
          "base_uri": "https://localhost:8080/"
        },
        "id": "E8Nwv4E9MeTA",
        "outputId": "48c3a649-ab68-42bf-fbe5-3cd41a5ef6d3"
      },
      "execution_count": 16,
      "outputs": [
        {
          "output_type": "stream",
          "name": "stderr",
          "text": [
            "\r[*********************100%***********************]  1 of 1 completed"
          ]
        },
        {
          "output_type": "stream",
          "name": "stdout",
          "text": [
            "Ticker           NVDA\n",
            "Date                 \n",
            "2018-01-16   5.442770\n",
            "2018-01-17   5.556765\n",
            "2018-01-18   5.549841\n",
            "2018-01-19   5.690045\n",
            "2018-01-22   5.778569\n",
            "...               ...\n",
            "2022-02-08  25.064003\n",
            "2022-02-09  26.658205\n",
            "2022-02-10  25.778753\n",
            "2022-02-11  23.907036\n",
            "2022-02-14  24.224480\n",
            "\n",
            "[1029 rows x 1 columns]\n"
          ]
        },
        {
          "output_type": "stream",
          "name": "stderr",
          "text": [
            "\n"
          ]
        }
      ]
    }
  ]
}