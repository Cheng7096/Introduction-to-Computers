{
  "nbformat": 4,
  "nbformat_minor": 0,
  "metadata": {
    "colab": {
      "provenance": [],
      "authorship_tag": "ABX9TyPMB41cl+vx6yBZfW7yaCuS",
      "include_colab_link": true
    },
    "kernelspec": {
      "name": "python3",
      "display_name": "Python 3"
    },
    "language_info": {
      "name": "python"
    }
  },
  "cells": [
    {
      "cell_type": "markdown",
      "metadata": {
        "id": "view-in-github",
        "colab_type": "text"
      },
      "source": [
        "<a href=\"https://colab.research.google.com/github/Cheng7096/Introduction-to-Computers/blob/main/Untitled0.ipynb\" target=\"_parent\"><img src=\"https://colab.research.google.com/assets/colab-badge.svg\" alt=\"Open In Colab\"/></a>"
      ]
    },
    {
      "cell_type": "code",
      "execution_count": 1,
      "metadata": {
        "colab": {
          "base_uri": "https://localhost:8080/"
        },
        "id": "0EfjGOpPKRXR",
        "outputId": "063a2e5a-38eb-40f6-dbf1-3b0d1548378b"
      },
      "outputs": [
        {
          "output_type": "stream",
          "name": "stdout",
          "text": [
            "1 * 1 = 1\n",
            "1 * 2 = 2\n",
            "1 * 3 = 3\n",
            "2 * 1 = 2\n",
            "2 * 2 = 4\n",
            "2 * 3 = 6\n",
            "3 * 1 = 3\n",
            "3 * 2 = 6\n",
            "3 * 3 = 9\n"
          ]
        }
      ],
      "source": [
        "def multiplication_table_while(n):\n",
        "    i = 1\n",
        "    while i <= n:\n",
        "        j = 1\n",
        "        while j <= n:\n",
        "            print(f\"{i} * {j} = {i * j}\")\n",
        "            j += 1\n",
        "        i += 1\n",
        "\n",
        "n = 3\n",
        "multiplication_table_while(n)"
      ]
    },
    {
      "cell_type": "code",
      "source": [
        "def multiplication_table_while(n):\n",
        "    i = 1\n",
        "    while i <= n:\n",
        "        j = 1\n",
        "        while j <= n:\n",
        "            print(f\"{i} * {j} = {i * j}\")\n",
        "            j += 1\n",
        "        i += 1\n",
        "\n",
        "n = 3\n",
        "multiplication_table_while(n)"
      ],
      "metadata": {
        "colab": {
          "base_uri": "https://localhost:8080/"
        },
        "id": "dcszGXfjKc1y",
        "outputId": "7ca21b37-5755-4b2a-bb35-f887a8df5ce1"
      },
      "execution_count": 2,
      "outputs": [
        {
          "output_type": "stream",
          "name": "stdout",
          "text": [
            "1 * 1 = 1\n",
            "1 * 2 = 2\n",
            "1 * 3 = 3\n",
            "2 * 1 = 2\n",
            "2 * 2 = 4\n",
            "2 * 3 = 6\n",
            "3 * 1 = 3\n",
            "3 * 2 = 6\n",
            "3 * 3 = 9\n"
          ]
        }
      ]
    }
  ]
}